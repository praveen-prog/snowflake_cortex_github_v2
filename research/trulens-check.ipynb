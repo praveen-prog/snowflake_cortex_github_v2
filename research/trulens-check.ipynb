{
 "cells": [
  {
   "cell_type": "code",
   "execution_count": 8,
   "metadata": {},
   "outputs": [],
   "source": [
    "from dotenv import load_dotenv\n",
    "from snowflake.snowpark.session import Session\n",
    "import os\n",
    "\n",
    "\n",
    "load_dotenv()\n",
    "\n",
    "connection_params = {\n",
    "  \"account\":  os.environ.get(\"SNOWFLAKE_ACCOUNT\"),\n",
    "  \"user\": os.environ.get(\"SNOWFLAKE_USER\"),\n",
    "  \"password\": os.environ.get(\"SNOWFLAKE_USER_PASSWORD\"),\n",
    "  \"role\": os.environ.get(\"SNOWFLAKE_ROLE\"),\n",
    "  \"database\": os.environ.get(\"SNOWFLAKE_DATABASE\"),\n",
    "  \"schema\": os.environ.get(\"SNOWFLAKE_SCHEMA\"),\n",
    "  \"warehouse\": os.environ.get(\"SNOWFLAKE_WAREHOUSE\")\n",
    "}\n",
    "\n",
    "snowpark_session = Session.builder.configs(connection_params).create()"
   ]
  },
  {
   "cell_type": "code",
   "execution_count": 9,
   "metadata": {},
   "outputs": [
    {
     "name": "stderr",
     "output_type": "stream",
     "text": [
      "Running the TruLens dashboard requires providing a `password` to the `SnowflakeConnector`.\n"
     ]
    },
    {
     "name": "stdout",
     "output_type": "stream",
     "text": [
      "🦑 Initialized with db url snowflake://%22praveensnowflake541%22:***@\"jcyrvug-lr36187\"/%22LLMOPS_DB%22/%22LLMOPS_SCHEMA%22?role=%22ACCOUNTADMIN%22&warehouse=%22LLMOPS_WH_M%22 .\n",
      "🛑 Secret keys may be written to the database. See the `database_redact_keys` option of `TruSession` to prevent this.\n"
     ]
    },
    {
     "name": "stderr",
     "output_type": "stream",
     "text": [
      "Singleton instance TruSession already exists for name = None.\n"
     ]
    },
    {
     "name": "stdout",
     "output_type": "stream",
     "text": [
      "Set TruLens workspace version tag: [('Statement executed successfully.',)]\n"
     ]
    }
   ],
   "source": [
    "from trulens.core import TruSession\n",
    "from trulens.connectors.snowflake import SnowflakeConnector\n",
    "\n",
    "tru_snowflake_connector = SnowflakeConnector(snowpark_session=snowpark_session)\n",
    "\n",
    "tru_session = TruSession(connector=tru_snowflake_connector)"
   ]
  },
  {
   "cell_type": "code",
   "execution_count": 14,
   "metadata": {},
   "outputs": [
    {
     "name": "stdout",
     "output_type": "stream",
     "text": [
      "Starting dashboard ...\n"
     ]
    },
    {
     "ename": "ValueError",
     "evalue": "SnowflakeConnector was made via an established Snowpark session which did not pass through authentication details to the SnowflakeConnector. To fix, supply password argument during SnowflakeConnector construction.",
     "output_type": "error",
     "traceback": [
      "\u001b[0;31m---------------------------------------------------------------------------\u001b[0m",
      "\u001b[0;31mValueError\u001b[0m                                Traceback (most recent call last)",
      "Cell \u001b[0;32mIn[14], line 2\u001b[0m\n\u001b[1;32m      1\u001b[0m \u001b[38;5;28;01mfrom\u001b[39;00m \u001b[38;5;21;01mtrulens\u001b[39;00m\u001b[38;5;21;01m.\u001b[39;00m\u001b[38;5;21;01mdashboard\u001b[39;00m \u001b[38;5;28;01mimport\u001b[39;00m run_dashboard\n\u001b[0;32m----> 2\u001b[0m run_dashboard()\n",
      "File \u001b[0;32m~/miniconda3/envs/getting_started_llmops/lib/python3.11/site-packages/trulens/dashboard/run.py:132\u001b[0m, in \u001b[0;36mrun_dashboard\u001b[0;34m(session, port, address, force, sis_compatibility_mode, _dev, _watch_changes)\u001b[0m\n\u001b[1;32m    126\u001b[0m     args\u001b[38;5;241m.\u001b[39mappend(\u001b[38;5;124mf\u001b[39m\u001b[38;5;124m\"\u001b[39m\u001b[38;5;124m--server.address=\u001b[39m\u001b[38;5;132;01m{\u001b[39;00maddress\u001b[38;5;132;01m}\u001b[39;00m\u001b[38;5;124m\"\u001b[39m)\n\u001b[1;32m    128\u001b[0m \u001b[38;5;28;01mif\u001b[39;00m (\n\u001b[1;32m    129\u001b[0m     _is_snowflake_connector(session\u001b[38;5;241m.\u001b[39mconnector)\n\u001b[1;32m    130\u001b[0m     \u001b[38;5;129;01mand\u001b[39;00m \u001b[38;5;129;01mnot\u001b[39;00m session\u001b[38;5;241m.\u001b[39mconnector\u001b[38;5;241m.\u001b[39mpassword_known\n\u001b[1;32m    131\u001b[0m ):\n\u001b[0;32m--> 132\u001b[0m     \u001b[38;5;28;01mraise\u001b[39;00m \u001b[38;5;167;01mValueError\u001b[39;00m(\n\u001b[1;32m    133\u001b[0m         \u001b[38;5;124m\"\u001b[39m\u001b[38;5;124mSnowflakeConnector was made via an established Snowpark session which did not pass through authentication details to the SnowflakeConnector. To fix, supply password argument during SnowflakeConnector construction.\u001b[39m\u001b[38;5;124m\"\u001b[39m\n\u001b[1;32m    134\u001b[0m     )\n\u001b[1;32m    136\u001b[0m args \u001b[38;5;241m+\u001b[39m\u001b[38;5;241m=\u001b[39m [\n\u001b[1;32m    137\u001b[0m     leaderboard_path,\n\u001b[1;32m    138\u001b[0m     \u001b[38;5;124m\"\u001b[39m\u001b[38;5;124m--\u001b[39m\u001b[38;5;124m\"\u001b[39m,\n\u001b[0;32m   (...)\u001b[0m\n\u001b[1;32m    142\u001b[0m     session\u001b[38;5;241m.\u001b[39mconnector\u001b[38;5;241m.\u001b[39mdb\u001b[38;5;241m.\u001b[39mtable_prefix,\n\u001b[1;32m    143\u001b[0m ]\n\u001b[1;32m    144\u001b[0m \u001b[38;5;28;01mif\u001b[39;00m sis_compatibility_mode:\n",
      "\u001b[0;31mValueError\u001b[0m: SnowflakeConnector was made via an established Snowpark session which did not pass through authentication details to the SnowflakeConnector. To fix, supply password argument during SnowflakeConnector construction."
     ]
    }
   ],
   "source": [
    "from trulens.dashboard import run_dashboard\n",
    "run_dashboard()"
   ]
  }
 ],
 "metadata": {
  "kernelspec": {
   "display_name": "getting_started_llmops",
   "language": "python",
   "name": "python3"
  },
  "language_info": {
   "codemirror_mode": {
    "name": "ipython",
    "version": 3
   },
   "file_extension": ".py",
   "mimetype": "text/x-python",
   "name": "python",
   "nbconvert_exporter": "python",
   "pygments_lexer": "ipython3",
   "version": "3.11.10"
  }
 },
 "nbformat": 4,
 "nbformat_minor": 2
}
